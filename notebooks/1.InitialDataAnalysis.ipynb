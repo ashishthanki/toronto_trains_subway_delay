{
 "cells": [
  {
   "cell_type": "code",
   "execution_count": 1,
   "metadata": {},
   "outputs": [
    {
     "name": "stdout",
     "output_type": "stream",
     "text": [
      "The file size in bytes is:  2.41221E+06\n"
     ]
    }
   ],
   "source": [
    "import pandas as pd\n",
    "import seaborn as sns\n",
    "from pathlib import Path\n",
    "\n",
    "data_folder = Path().absolute() / \"../data/processed/\"\n",
    "file_name = \"combined_df.csv\"\n",
    "\n",
    "# check file size\n",
    "file_size_bytes = (data_folder / file_name).stat().st_size\n",
    "print(f\"The file size in bytes is: {file_size_bytes: 1G}\")"
   ]
  },
  {
   "cell_type": "markdown",
   "metadata": {},
   "source": [
    "## Load Data"
   ]
  },
  {
   "cell_type": "code",
   "execution_count": 2,
   "metadata": {},
   "outputs": [
    {
     "data": {
      "text/html": [
       "<div>\n",
       "<style scoped>\n",
       "    .dataframe tbody tr th:only-of-type {\n",
       "        vertical-align: middle;\n",
       "    }\n",
       "\n",
       "    .dataframe tbody tr th {\n",
       "        vertical-align: top;\n",
       "    }\n",
       "\n",
       "    .dataframe thead th {\n",
       "        text-align: right;\n",
       "    }\n",
       "</style>\n",
       "<table border=\"1\" class=\"dataframe\">\n",
       "  <thead>\n",
       "    <tr style=\"text-align: right;\">\n",
       "      <th></th>\n",
       "      <th>Day</th>\n",
       "      <th>Station</th>\n",
       "      <th>Code</th>\n",
       "      <th>Min Delay</th>\n",
       "      <th>Min Gap</th>\n",
       "      <th>Bound</th>\n",
       "      <th>Line</th>\n",
       "      <th>Vehicle</th>\n",
       "      <th>DateTime</th>\n",
       "    </tr>\n",
       "  </thead>\n",
       "  <tbody>\n",
       "    <tr>\n",
       "      <th>0</th>\n",
       "      <td>Saturday</td>\n",
       "      <td>LAWRENCE EAST STATION</td>\n",
       "      <td>SRDP</td>\n",
       "      <td>0</td>\n",
       "      <td>0</td>\n",
       "      <td>N</td>\n",
       "      <td>SRT</td>\n",
       "      <td>3023</td>\n",
       "      <td>2022-01-01 15:59:00</td>\n",
       "    </tr>\n",
       "    <tr>\n",
       "      <th>1</th>\n",
       "      <td>Saturday</td>\n",
       "      <td>SPADINA BD STATION</td>\n",
       "      <td>MUIS</td>\n",
       "      <td>0</td>\n",
       "      <td>0</td>\n",
       "      <td>NaN</td>\n",
       "      <td>BD</td>\n",
       "      <td>0</td>\n",
       "      <td>2022-01-01 02:23:00</td>\n",
       "    </tr>\n",
       "    <tr>\n",
       "      <th>2</th>\n",
       "      <td>Saturday</td>\n",
       "      <td>KENNEDY SRT STATION TO</td>\n",
       "      <td>MRO</td>\n",
       "      <td>0</td>\n",
       "      <td>0</td>\n",
       "      <td>NaN</td>\n",
       "      <td>SRT</td>\n",
       "      <td>0</td>\n",
       "      <td>2022-01-01 22:00:00</td>\n",
       "    </tr>\n",
       "    <tr>\n",
       "      <th>3</th>\n",
       "      <td>Saturday</td>\n",
       "      <td>VAUGHAN MC STATION</td>\n",
       "      <td>MUIS</td>\n",
       "      <td>0</td>\n",
       "      <td>0</td>\n",
       "      <td>NaN</td>\n",
       "      <td>YU</td>\n",
       "      <td>0</td>\n",
       "      <td>2022-01-01 02:28:00</td>\n",
       "    </tr>\n",
       "    <tr>\n",
       "      <th>4</th>\n",
       "      <td>Saturday</td>\n",
       "      <td>EGLINTON STATION</td>\n",
       "      <td>MUATC</td>\n",
       "      <td>0</td>\n",
       "      <td>0</td>\n",
       "      <td>S</td>\n",
       "      <td>YU</td>\n",
       "      <td>5981</td>\n",
       "      <td>2022-01-01 02:34:00</td>\n",
       "    </tr>\n",
       "    <tr>\n",
       "      <th>5</th>\n",
       "      <td>Saturday</td>\n",
       "      <td>QUEEN STATION</td>\n",
       "      <td>MUNCA</td>\n",
       "      <td>0</td>\n",
       "      <td>0</td>\n",
       "      <td>NaN</td>\n",
       "      <td>YU</td>\n",
       "      <td>0</td>\n",
       "      <td>2022-01-01 05:40:00</td>\n",
       "    </tr>\n",
       "    <tr>\n",
       "      <th>6</th>\n",
       "      <td>Saturday</td>\n",
       "      <td>DAVISVILLE STATION</td>\n",
       "      <td>MUNCA</td>\n",
       "      <td>0</td>\n",
       "      <td>0</td>\n",
       "      <td>NaN</td>\n",
       "      <td>YU</td>\n",
       "      <td>0</td>\n",
       "      <td>2022-01-01 06:56:00</td>\n",
       "    </tr>\n",
       "    <tr>\n",
       "      <th>7</th>\n",
       "      <td>Saturday</td>\n",
       "      <td>ST PATRICK STATION</td>\n",
       "      <td>MUNCA</td>\n",
       "      <td>0</td>\n",
       "      <td>0</td>\n",
       "      <td>NaN</td>\n",
       "      <td>YU</td>\n",
       "      <td>0</td>\n",
       "      <td>2022-01-01 06:58:00</td>\n",
       "    </tr>\n",
       "    <tr>\n",
       "      <th>8</th>\n",
       "      <td>Saturday</td>\n",
       "      <td>PAPE STATION</td>\n",
       "      <td>MUNCA</td>\n",
       "      <td>0</td>\n",
       "      <td>0</td>\n",
       "      <td>NaN</td>\n",
       "      <td>BD</td>\n",
       "      <td>0</td>\n",
       "      <td>2022-01-01 07:01:00</td>\n",
       "    </tr>\n",
       "    <tr>\n",
       "      <th>9</th>\n",
       "      <td>Saturday</td>\n",
       "      <td>WILSON STATION</td>\n",
       "      <td>TUATC</td>\n",
       "      <td>10</td>\n",
       "      <td>0</td>\n",
       "      <td>S</td>\n",
       "      <td>YU</td>\n",
       "      <td>5896</td>\n",
       "      <td>2022-01-01 07:43:00</td>\n",
       "    </tr>\n",
       "  </tbody>\n",
       "</table>\n",
       "</div>"
      ],
      "text/plain": [
       "        Day                 Station   Code  Min Delay  Min Gap Bound Line  \\\n",
       "0  Saturday   LAWRENCE EAST STATION   SRDP          0        0     N  SRT   \n",
       "1  Saturday      SPADINA BD STATION   MUIS          0        0   NaN   BD   \n",
       "2  Saturday  KENNEDY SRT STATION TO    MRO          0        0   NaN  SRT   \n",
       "3  Saturday      VAUGHAN MC STATION   MUIS          0        0   NaN   YU   \n",
       "4  Saturday        EGLINTON STATION  MUATC          0        0     S   YU   \n",
       "5  Saturday           QUEEN STATION  MUNCA          0        0   NaN   YU   \n",
       "6  Saturday      DAVISVILLE STATION  MUNCA          0        0   NaN   YU   \n",
       "7  Saturday      ST PATRICK STATION  MUNCA          0        0   NaN   YU   \n",
       "8  Saturday            PAPE STATION  MUNCA          0        0   NaN   BD   \n",
       "9  Saturday          WILSON STATION  TUATC         10        0     S   YU   \n",
       "\n",
       "   Vehicle            DateTime  \n",
       "0     3023 2022-01-01 15:59:00  \n",
       "1        0 2022-01-01 02:23:00  \n",
       "2        0 2022-01-01 22:00:00  \n",
       "3        0 2022-01-01 02:28:00  \n",
       "4     5981 2022-01-01 02:34:00  \n",
       "5        0 2022-01-01 05:40:00  \n",
       "6        0 2022-01-01 06:56:00  \n",
       "7        0 2022-01-01 06:58:00  \n",
       "8        0 2022-01-01 07:01:00  \n",
       "9     5896 2022-01-01 07:43:00  "
      ]
     },
     "execution_count": 2,
     "metadata": {},
     "output_type": "execute_result"
    }
   ],
   "source": [
    "df = pd.read_csv(\n",
    "    data_folder / file_name,\n",
    "    parse_dates=[\"DateTime\"],\n",
    "    )\n",
    "df.head(10)"
   ]
  },
  {
   "attachments": {
    "image.png": {
     "image/png": "[encoded data removed]"
    }
   },
   "cell_type": "markdown",
   "metadata": {},
   "source": [
    "![image.png](attachment:image.png)"
   ]
  },
  {
   "cell_type": "markdown",
   "metadata": {},
   "source": [
    "1. What days have the most number of delays, what is the average delay? \n",
    "2. Which station has the most number of delays, what is the average delay?\n",
    "3. Which delay code is used most?\n",
    "4. What Line has the most delays?\n",
    "5. Are there any train numbers that have more delays?"
   ]
  },
  {
   "cell_type": "markdown",
   "metadata": {},
   "source": [
    "# Initial Data Analysis"
   ]
  },
  {
   "cell_type": "code",
   "execution_count": 3,
   "metadata": {},
   "outputs": [
    {
     "name": "stdout",
     "output_type": "stream",
     "text": [
      "<class 'pandas.core.frame.DataFrame'>\n",
      "RangeIndex: 37620 entries, 0 to 37619\n",
      "Data columns (total 9 columns):\n",
      " #   Column     Non-Null Count  Dtype         \n",
      "---  ------     --------------  -----         \n",
      " 0   Day        37620 non-null  object        \n",
      " 1   Station    37620 non-null  object        \n",
      " 2   Code       37620 non-null  object        \n",
      " 3   Min Delay  37620 non-null  int64         \n",
      " 4   Min Gap    37620 non-null  int64         \n",
      " 5   Bound      25881 non-null  object        \n",
      " 6   Line       37541 non-null  object        \n",
      " 7   Vehicle    37620 non-null  int64         \n",
      " 8   DateTime   37620 non-null  datetime64[ns]\n",
      "dtypes: datetime64[ns](1), int64(3), object(5)\n",
      "memory usage: 2.6+ MB\n"
     ]
    }
   ],
   "source": [
    "df.info()\n"
   ]
  },
  {
   "cell_type": "markdown",
   "metadata": {},
   "source": [
    "# Top 5 worst performing\n",
    "The categories we need to analyse are Stations, Code Bound, Line and Vehicles.\n",
    "For example, the worst performing stations are important to understand so we can flag these and dive deeper into the data in why.\n",
    "\n",
    "Additional categories that would benefit from analysis include: Day of Week, Hour of Day, Month, Year. From this we can determine when delays are likely to occur."
   ]
  },
  {
   "cell_type": "markdown",
   "metadata": {},
   "source": [
    "### Metrics\n",
    "\n",
    "To establish which stations are the worst performing it is crucial to understand how we can compare each of the categories.\n",
    "\n",
    "##### On Time performance\n",
    "An obvious metric is percentage of [**on-time performance**](https://en.wikipedia.org/wiki/On-time_performance), which can be calculated as services on time divided by total services. "
   ]
  },
  {
   "cell_type": "code",
   "execution_count": 4,
   "metadata": {},
   "outputs": [],
   "source": [
    "def calculate_metrics(sub_category: pd.DataFrame) -> pd.Series:\n",
    "    metrics = {}\n",
    "    no_delay_count = sub_category[sub_category[\"Min Delay\"] == 0].shape[0]\n",
    "    total_service_count = sub_category.shape[0]\n",
    "    \n",
    "    # return 0 if there are no on-time services\n",
    "    if (no_delay_count == 0):\n",
    "        sub_category[\"on_time_perc_performance\"] = 0.\n",
    "\n",
    "    metrics[\"on_time_perc_performance\"] = no_delay_count * 100/total_service_count\n",
    "    metrics[\"total_service_count\"] = total_service_count\n",
    "    metrics[\"total_delay\"] = sub_category[\"Min Delay\"].sum()\n",
    "\n",
    "    return pd.Series(metrics)\n",
    "    \n"
   ]
  },
  {
   "cell_type": "markdown",
   "metadata": {},
   "source": [
    "The function above has been moved to `src/analyse.py` file."
   ]
  },
  {
   "cell_type": "markdown",
   "metadata": {},
   "source": [
    "##### Total delay time\n",
    "\n",
    "The other metric should be the total delay, which is calculated by the sum of delayed minutes. "
   ]
  }
 ],
 "metadata": {
  "kernelspec": {
   "display_name": ".venv",
   "language": "python",
   "name": "python3"
  },
  "language_info": {
   "codemirror_mode": {
    "name": "ipython",
    "version": 3
   },
   "file_extension": ".py",
   "mimetype": "text/x-python",
   "name": "python",
   "nbconvert_exporter": "python",
   "pygments_lexer": "ipython3",
   "version": "3.10.11"
  },
  "orig_nbformat": 4
 },
 "nbformat": 4,
 "nbformat_minor": 2
}
